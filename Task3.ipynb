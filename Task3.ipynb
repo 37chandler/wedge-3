{
 "cells": [
  {
   "cell_type": "markdown",
   "metadata": {},
   "source": [
    "## Task 3"
   ]
  },
  {
   "cell_type": "code",
   "execution_count": 36,
   "metadata": {},
   "outputs": [
    {
     "name": "stderr",
     "output_type": "stream",
     "text": [
      "c:\\Users\\rache\\AppData\\Local\\Programs\\Python\\Python312\\Lib\\site-packages\\google\\auth\\_default.py:76: UserWarning: Your application has authenticated using end user credentials from Google Cloud SDK without a quota project. You might receive a \"quota exceeded\" or \"API not enabled\" error. See the following page for troubleshooting: https://cloud.google.com/docs/authentication/adc-troubleshooting/user-creds. \n",
      "  warnings.warn(_CLOUD_SDK_CREDENTIALS_WARNING)\n"
     ]
    }
   ],
   "source": [
    "from google.cloud import bigquery\n",
    "client = bigquery.Client(project=\"rhamre\")\n",
    "\n",
    "import sqlite3\n",
    "import pandas as pd\n",
    "from sqlalchemy import create_engine "
   ]
  },
  {
   "cell_type": "code",
   "execution_count": null,
   "metadata": {},
   "outputs": [],
   "source": []
  },
  {
   "cell_type": "code",
   "execution_count": 52,
   "metadata": {},
   "outputs": [],
   "source": [
    "def run_bigquery_query(query):\n",
    "    query_job = client.query(query)  # API request\n",
    "    results = query_job.result()  # Wait for the job to complete.\n",
    "    df = results.to_dataframe()\n",
    "    return df"
   ]
  },
  {
   "cell_type": "code",
   "execution_count": 53,
   "metadata": {},
   "outputs": [],
   "source": [
    "sales_by_date_by_hour = '''\n",
    "SELECT\n",
    "  CAST(datetime AS DATE) AS date,\n",
    "  EXTRACT(HOUR FROM datetime) AS hour,\n",
    "  ROUND(SUM(total), 2) AS total_spend,\n",
    "  COUNT(CASE WHEN trans_type = 'I' AND unitPrice > 0 THEN 1 END) AS num_items,\n",
    "  COUNT(DISTINCT CONCAT(CAST(trans_no AS STRING), CAST(register_no AS STRING), CAST(emp_no AS STRING), CAST(DATE(datetime) AS STRING))) AS num_transactions\n",
    "FROM `rhamre.wedge.transArchive*`\n",
    "GROUP BY date, hour\n",
    "ORDER BY date, hour\n",
    "\n",
    "'''"
   ]
  },
  {
   "cell_type": "code",
   "execution_count": 54,
   "metadata": {},
   "outputs": [],
   "source": [
    "sales_by_owner_by_year_by_month = '''\n",
    "SELECT\n",
    "  card_no,\n",
    "  EXTRACT(YEAR FROM datetime) AS year,\n",
    "  EXTRACT(MONTH FROM datetime) AS month,\n",
    "  ROUND(SUM(CASE WHEN trans_type = 'T' THEN ABS(total) ELSE 0 END), 2) AS sales,\n",
    "  COUNT(DISTINCT CONCAT(CAST(trans_no AS STRING), CAST(register_no AS STRING), CAST(emp_no AS STRING), CAST(DATE(datetime) AS STRING))) AS num_transactions,\n",
    "  COUNT(CASE WHEN trans_type = 'I' AND unitPrice > 0 THEN 1 END) AS num_items,\n",
    "FROM `rhamre.wedge.transArchive*`\n",
    "GROUP BY card_no, year, month\n",
    "ORDER BY card_no DESC, year, month\n",
    "\n",
    "'''"
   ]
  },
  {
   "cell_type": "code",
   "execution_count": 55,
   "metadata": {},
   "outputs": [],
   "source": [
    "sales_by_product_description_by_year_by_month = '''\n",
    "SELECT\n",
    "    EXTRACT(YEAR FROM t.datetime) AS year,\n",
    "    EXTRACT(MONTH FROM t.datetime) AS month,\n",
    "    t.upc,\n",
    "    t.description,\n",
    "    t.department AS department_number,\n",
    "    d.dept_name AS department_name,\n",
    "    ROUND(SUM(CASE WHEN t.trans_type = 'T' THEN ABS(t.total) ELSE 0 END), 2) AS sales,\n",
    "    COUNT(DISTINCT CONCAT(CAST(t.trans_no AS STRING), CAST(t.register_no AS STRING), CAST(t.emp_no AS STRING), CAST(DATE(t.datetime) AS STRING))) AS num_transactions,\n",
    "    COUNT(CASE WHEN t.trans_type = 'I' AND t.unitPrice > 0 THEN 1 END) AS num_items\n",
    "FROM `rhamre.wedge.transArchive*`t\n",
    "LEFT JOIN `rhamre.wedge.department_lookup` d\n",
    "    ON t.department = d.department\n",
    "GROUP BY \n",
    "    t.upc, \n",
    "    t.description, \n",
    "    t.department, \n",
    "    d.dept_name, \n",
    "    year, \n",
    "    month\n",
    "ORDER BY \n",
    "    year, \n",
    "    month, \n",
    "    t.upc\n",
    "'''"
   ]
  },
  {
   "cell_type": "code",
   "execution_count": null,
   "metadata": {},
   "outputs": [],
   "source": []
  },
  {
   "cell_type": "markdown",
   "metadata": {},
   "source": [
    "Create .db"
   ]
  },
  {
   "cell_type": "code",
   "execution_count": 56,
   "metadata": {},
   "outputs": [
    {
     "name": "stderr",
     "output_type": "stream",
     "text": [
      "c:\\Users\\rache\\AppData\\Local\\Programs\\Python\\Python312\\Lib\\site-packages\\google\\cloud\\bigquery\\table.py:1727: UserWarning: BigQuery Storage module not found, fetch data with the REST endpoint instead.\n",
      "  warnings.warn(\n"
     ]
    },
    {
     "name": "stdout",
     "output_type": "stream",
     "text": [
      "All tables successfully written to SQLite database!\n"
     ]
    }
   ],
   "source": [
    "# Run the queries and store the results in DataFrames\n",
    "sales_by_date_by_hour = run_bigquery_query(sales_by_date_by_hour)\n",
    "sales_by_owner_by_year_by_month = run_bigquery_query(sales_by_owner_by_year_by_month)\n",
    "sales_by_product_description_by_year_by_month = run_bigquery_query(sales_by_product_description_by_year_by_month)\n",
    "\n",
    "# Connect to the SQLite database (or create one if it doesn't exist)\n",
    "sqlite_conn = sqlite3.connect('Task_3_bigquery_results.db')\n",
    "\n",
    "# Write the DataFrames to SQLite tables\n",
    "sales_by_date_by_hour.to_sql('sales_by_date_by_hour', sqlite_conn, if_exists='replace', index=False)\n",
    "sales_by_owner_by_year_by_month.to_sql('sales_by_owner_by_year_by_month', sqlite_conn, if_exists='replace', index=False)\n",
    "sales_by_product_description_by_year_by_month.to_sql('sales_by_product_description_by_year_by_month', sqlite_conn, if_exists='replace', index=False)\n",
    "\n",
    "# Close the connection\n",
    "sqlite_conn.close()\n",
    "\n",
    "print(\"All tables successfully written to SQLite database!\")"
   ]
  },
  {
   "cell_type": "code",
   "execution_count": null,
   "metadata": {},
   "outputs": [],
   "source": []
  }
 ],
 "metadata": {
  "kernelspec": {
   "display_name": "Python 3",
   "language": "python",
   "name": "python3"
  },
  "language_info": {
   "codemirror_mode": {
    "name": "ipython",
    "version": 3
   },
   "file_extension": ".py",
   "mimetype": "text/x-python",
   "name": "python",
   "nbconvert_exporter": "python",
   "pygments_lexer": "ipython3",
   "version": "3.12.2"
  }
 },
 "nbformat": 4,
 "nbformat_minor": 2
}
